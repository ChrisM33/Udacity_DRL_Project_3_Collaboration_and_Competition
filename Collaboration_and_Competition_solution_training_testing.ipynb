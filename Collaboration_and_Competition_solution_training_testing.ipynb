{
 "cells": [
  {
   "cell_type": "markdown",
   "metadata": {},
   "source": [
    "<hr>"
   ]
  },
  {
   "cell_type": "markdown",
   "metadata": {},
   "source": [
    "<center><font size=\"6\">\n",
    "<a href=\"https://www.udacity.com/course/deep-reinforcement-learning-nanodegree--nd893/\">Udacity Deep Reinforcement Learning Nanodegree Program</a></font></center>\n",
    "<br>\n",
    "<p></p>\n",
    "<center><font size=\"6\">Project: Collaboration and Competition</font></center>\n",
    "<p></p>\n",
    "<br>\n",
    "<center><font size=\"3\">\n",
    "<a href=\"https://gh.linkedin.com/in/christian-motschenbacher-7a660b123/\">Christian Motschenbacher</a></font></center>\n",
    "<br>"
   ]
  },
  {
   "cell_type": "markdown",
   "metadata": {},
   "source": [
    "<div class=\"alert alert-block alert-info\" style=\"margin-top: 20px\">\n",
    "<a href=\"https://www.udacity.com/course/deep-reinforcement-learning-nanodegree--nd893\"><img src = \"./media/UdacityDRL01.png\" width = 950, align = \"center\"></a>\n",
    "</div>"
   ]
  },
  {
   "cell_type": "markdown",
   "metadata": {},
   "source": [
    "<hr>"
   ]
  },
  {
   "cell_type": "markdown",
   "metadata": {},
   "source": [
    "# Table of Contents\n",
    "\n",
    "<div class=\"alert alert-block alert-info\" style=\"margin-top: 20px\">\n",
    "<li><a href=\"#ref0\">Author, Project and Environment description </a></li>\n",
    "<li><a href=\"#ref1\">Libraries </a></li>\n",
    "<li><a href=\"#ref2\">Start the Environment </a></li>\n",
    "<li><a href=\"#ref3\">Examine the State and Action Spaces </a></li>\n",
    "<li><a href=\"#ref4\">Create intelligent Agents </a></li>\n",
    "<li><a href=\"#ref5\">Watching/testing an untrained agent and plot the reward scores </a></li>\n",
    "<li><a href=\"#ref6\">Training the Agent with DDPG </a></li>\n",
    "<li><a href=\"#ref7\">Plotting the training reward scores </a></li>\n",
    "<li><a href=\"#ref8\">Watching/testing an trained agent and plot the reward scores </a></li>\n",
    "<li><a href=\"#ref9\">Close Environment </a></li>\n",
    "</div>"
   ]
  },
  {
   "cell_type": "markdown",
   "metadata": {},
   "source": [
    "<hr>"
   ]
  },
  {
   "cell_type": "markdown",
   "metadata": {},
   "source": [
    "# Author, Project and Environment description\n",
    "## Author  \n",
    "  \n",
    "**Name: [Christian Motschenbacher](https://gh.linkedin.com/in/christian-motschenbacher-7a660b123)**  \n",
    "  \n",
    "**Date: 03/2019**  \n",
    "  \n",
    "**Project: Udacity Deep Reinforcement Learning Nanodegree Program: Project 3: Collaboration and Competition**  \n",
    "**This file contains the training and testing code for this project.**\n",
    "\n",
    "\n",
    "## Project and Environment description\n",
    "<br>\n",
    "<div style=\"text-align: justify\">  \n",
    "The tennis environment has been used in this project.  \n",
    "The task of this project was to train two agents, to control rackets to bounce a ball over a net. The following video is showing how trained agents are performing this task well.\n",
    "</div>\n",
    "\n",
    "![](./media/UdacityDRL02.gif)\n",
    "<br>\n",
    "<div style=\"text-align: justify\">  \n",
    "If an agent hits the ball over the net, it receives a reward of +0.1. If an agent lets a ball hit the ground or hits the ball out of bounds, it receives a reward of -0.01. Thus, the goal of each agent is to keep the ball in play.\n",
    "</div>\n",
    "<br>\n",
    "<div style=\"text-align: justify\">  \n",
    "The observation space consists of 8 variables corresponding to the position and velocity of the ball and racket. Each agent receives its own, local observation. Two continuous actions are available, corresponding to movement toward or away from the net, and jumping.\n",
    "</div>\n",
    "<br>\n",
    "<div style=\"text-align: justify\">  \n",
    "The task is episodic, and in order to solve the environment, the agents must get an average score of +0.5 (over 100 consecutive episodes, after taking the maximum over both agents). Specifically,  \n",
    "<br>  \n",
    "<li>\n",
    "After each episode, we add up the rewards that each agent received (without discounting), to get a score for each agent. This yields 2 (potentially different) scores. We then take the maximum of these 2 scores.\n",
    "</li>\n",
    "<li>    \n",
    "This yields a single score for each episode.\n",
    "</li>\n",
    "<br>\n",
    "The environment is considered solved, when the average (over 100 episodes) of those scores is at least +0.5.\n",
    "</div>\n",
    "<br>\n",
    "<div style=\"text-align: justify\">  \n",
    "For the soution of this task it has been used the Unity ML-Agents Reacher Environment from Unity-Technologies, the Python programming language as well the libraries NumPy, PyTorch and others.</p>\n",
    "</div>"
   ]
  },
  {
   "cell_type": "markdown",
   "metadata": {},
   "source": [
    "<hr>"
   ]
  },
  {
   "cell_type": "markdown",
   "metadata": {},
   "source": [
    "# Libraries\n",
    "Importing the necessary libraries for this project."
   ]
  },
  {
   "cell_type": "code",
   "execution_count": 1,
   "metadata": {
    "ExecuteTime": {
     "end_time": "2019-03-02T04:09:50.607553Z",
     "start_time": "2019-03-02T04:09:47.945664Z"
    }
   },
   "outputs": [],
   "source": [
    "from unityagents import UnityEnvironment\n",
    "\n",
    "import numpy as np\n",
    "from time import sleep, time\n",
    "from pandas import Series\n",
    "\n",
    "import torch\n",
    "from collections import deque\n",
    "import matplotlib.pyplot as plt\n",
    "from IPython.display import HTML\n",
    "\n",
    "import warnings\n",
    "warnings.filterwarnings('ignore')\n",
    "\n",
    "%matplotlib inline\n",
    "%reload_ext autoreload\n",
    "%autoreload 2"
   ]
  },
  {
   "cell_type": "markdown",
   "metadata": {},
   "source": [
    "<hr>"
   ]
  },
  {
   "cell_type": "markdown",
   "metadata": {},
   "source": [
    "# Start the Environment\n",
    "<div style=\"text-align: justify\">  \n",
    "The next code section opens and starts the Unity Environment. In addition, the environment return its properties such as the amount of possible actions, the state spaces and others.\n",
    "</div>"
   ]
  },
  {
   "cell_type": "code",
   "execution_count": 2,
   "metadata": {
    "ExecuteTime": {
     "end_time": "2019-03-02T04:09:51.752092Z",
     "start_time": "2019-03-02T04:09:50.607553Z"
    }
   },
   "outputs": [
    {
     "name": "stderr",
     "output_type": "stream",
     "text": [
      "INFO:unityagents:\n",
      "'Academy' started successfully!\n",
      "Unity Academy name: Academy\n",
      "        Number of Brains: 1\n",
      "        Number of External Brains : 1\n",
      "        Lesson number : 0\n",
      "        Reset Parameters :\n",
      "\t\t\n",
      "Unity brain name: TennisBrain\n",
      "        Number of Visual Observations (per agent): 0\n",
      "        Vector Observation space type: continuous\n",
      "        Vector Observation space size (per agent): 8\n",
      "        Number of stacked Vector Observation: 3\n",
      "        Vector Action space type: continuous\n",
      "        Vector Action space size (per agent): 2\n",
      "        Vector Action descriptions: , \n"
     ]
    }
   ],
   "source": [
    "# The project has been developed in Windows and therefore, the Windows Unity-Technology environment has been used.\n",
    "# The training can be performed with and without graphics by setting the parameter \"no_graphics=False\" \n",
    "# respectiveley \"no_graphics=True\".\n",
    "\n",
    "# Windows\n",
    "env = UnityEnvironment(file_name='./env/Tennis_Windows_x86_64/Tennis.exe',\n",
    "                       no_graphics=True)"
   ]
  },
  {
   "cell_type": "markdown",
   "metadata": {},
   "source": [
    "<div style=\"text-align: justify\">  \n",
    "Environments contain <b>brains</b> which are responsible for deciding the actions of their associated agents. Here I check for the first brain available, and set it as the default brain I will be controlling from Python.\n",
    "</div>"
   ]
  },
  {
   "cell_type": "code",
   "execution_count": 3,
   "metadata": {
    "ExecuteTime": {
     "end_time": "2019-03-02T04:09:52.209963Z",
     "start_time": "2019-03-02T04:09:51.753088Z"
    }
   },
   "outputs": [
    {
     "name": "stdout",
     "output_type": "stream",
     "text": [
      "TennisBrain\n",
      "Unity brain name: TennisBrain\n",
      "        Number of Visual Observations (per agent): 0\n",
      "        Vector Observation space type: continuous\n",
      "        Vector Observation space size (per agent): 8\n",
      "        Number of stacked Vector Observation: 3\n",
      "        Vector Action space type: continuous\n",
      "        Vector Action space size (per agent): 2\n",
      "        Vector Action descriptions: , \n"
     ]
    }
   ],
   "source": [
    "# get the default brain\n",
    "brain_name = env.brain_names[0]\n",
    "brain = env.brains[brain_name]\n",
    "print(brain_name) # print brain name\n",
    "print(brain)      # print the properties of the brain"
   ]
  },
  {
   "cell_type": "markdown",
   "metadata": {},
   "source": [
    "<hr>"
   ]
  },
  {
   "cell_type": "markdown",
   "metadata": {},
   "source": [
    "# Examine the State and Action Spaces\n",
    "<br>\n",
    "<div style=\"text-align: justify\">  \n",
    "If an agent hits the ball over the net, it receives a reward of +0.1. If an agent lets a ball hit the ground or hits the ball out of bounds, it receives a reward of -0.01. Thus, the goal of each agent is to keep the ball in play.\n",
    "</div>\n",
    "<br>\n",
    "<div style=\"text-align: justify\">  \n",
    "The observation space consists of 8 variables corresponding to the position and velocity of the ball and racket. Each agent receives its own, local observation. Two continuous actions are available, corresponding to movement toward or away from the net, and jumping. Every entry in the action vector must be a number between -1 and 1.\n",
    "</div>\n",
    "<br>\n",
    "<div style=\"text-align: justify\">  \n",
    "The code cell below print some information about the environment.  \n",
    "</div>"
   ]
  },
  {
   "cell_type": "code",
   "execution_count": 4,
   "metadata": {
    "ExecuteTime": {
     "end_time": "2019-03-02T04:09:52.741806Z",
     "start_time": "2019-03-02T04:09:52.212931Z"
    }
   },
   "outputs": [
    {
     "name": "stdout",
     "output_type": "stream",
     "text": [
      "Number of agents: 2\n",
      "Size of each action: 2\n",
      "There are 2 agents. Each observes a state with length: 24\n",
      "The state for the first agent looks like: [ 0.          0.          0.          0.          0.          0.\n",
      "  0.          0.          0.          0.          0.          0.\n",
      "  0.          0.          0.          0.         -6.65278625 -1.5\n",
      " -0.          0.          6.83172083  6.         -0.          0.        ]\n"
     ]
    }
   ],
   "source": [
    "# reset the environment\n",
    "env_info = env.reset(train_mode=True)[brain_name]\n",
    "\n",
    "# number of agents\n",
    "num_agents = len(env_info.agents)\n",
    "print('Number of agents:', num_agents)\n",
    "\n",
    "# size of each action\n",
    "action_size = brain.vector_action_space_size\n",
    "print('Size of each action:', action_size)\n",
    "\n",
    "# examine the state space \n",
    "states = env_info.vector_observations\n",
    "state_size = states.shape[1]\n",
    "print('There are {} agents. Each observes a state with length: {}'.format(states.shape[0], state_size))\n",
    "print('The state for the first agent looks like:', states[0])"
   ]
  },
  {
   "cell_type": "markdown",
   "metadata": {},
   "source": [
    "<hr>"
   ]
  },
  {
   "cell_type": "markdown",
   "metadata": {},
   "source": [
    "# Create an intelligent Agent for the following testing, training and testing code section."
   ]
  },
  {
   "cell_type": "code",
   "execution_count": 5,
   "metadata": {
    "ExecuteTime": {
     "end_time": "2019-03-02T04:09:55.690101Z",
     "start_time": "2019-03-02T04:09:52.745797Z"
    }
   },
   "outputs": [],
   "source": [
    "from ddpg_agent import Agent   # import the necessary library with the class agent\n",
    "agent = Agent(state_size=state_size, action_size=action_size, random_seed=3) # create and instance with initial parameters of the agent"
   ]
  },
  {
   "cell_type": "markdown",
   "metadata": {},
   "source": [
    "<hr>"
   ]
  },
  {
   "cell_type": "markdown",
   "metadata": {},
   "source": [
    "# Watch/testing an untrained agent and plot the reward score\n"
   ]
  },
  {
   "cell_type": "markdown",
   "metadata": {},
   "source": [
    "**Example Video of untrained agent.**  \n",
    "After the following code cell is executed the video can be started via the play button."
   ]
  },
  {
   "cell_type": "code",
   "execution_count": 6,
   "metadata": {
    "ExecuteTime": {
     "end_time": "2019-03-02T04:09:56.215316Z",
     "start_time": "2019-03-02T04:09:55.691102Z"
    },
    "code_folding": []
   },
   "outputs": [
    {
     "data": {
      "text/html": [
       "<div align=\"middle\"><video width=\"80%\" height=\"\" controls><source src=\"media/01_p3_t_untrained.mp4\" type=\"video/mp4\"></video></div>"
      ],
      "text/plain": [
       "<IPython.core.display.HTML object>"
      ]
     },
     "execution_count": 6,
     "metadata": {},
     "output_type": "execute_result"
    }
   ],
   "source": [
    "HTML(\"\"\"<div align=\"middle\"><video width=\"80%\" height=\"\" controls><source src=\"media/01_p3_t_untrained.mp4\" type=\"video/mp4\"></video></div>\"\"\")"
   ]
  },
  {
   "cell_type": "markdown",
   "metadata": {},
   "source": [
    "<div style=\"text-align: justify\">\n",
    "Once the following testing of an untrained agent code cell is executed, a window will pop up you will watch the agent's untrained performance controlled by random actions at each time step. \n",
    "</div>"
   ]
  },
  {
   "cell_type": "code",
   "execution_count": 7,
   "metadata": {
    "ExecuteTime": {
     "end_time": "2019-03-02T04:10:07.314922Z",
     "start_time": "2019-03-02T04:09:56.216294Z"
    }
   },
   "outputs": [
    {
     "name": "stdout",
     "output_type": "stream",
     "text": [
      "Score of 20 trained agents: [-0.004999999888241291, -0.004999999888241291, -0.004999999888241291, -0.004999999888241291, -0.004999999888241291]\n"
     ]
    },
    {
     "data": {
      "image/png": "[encoded data removed]",
      "text/plain": [
       "<Figure size 1080x360 with 1 Axes>"
      ]
     },
     "metadata": {
      "needs_background": "light"
     },
     "output_type": "display_data"
    }
   ],
   "source": [
    "episode_score = []                                        # list containing scores from each episode\n",
    "\n",
    "for j in range(5):\n",
    "    env_info = env.reset(train_mode=False)[brain_name]     # reset the environment    \n",
    "    states = env_info.vector_observations                  # get the current state (for each agent)\n",
    "    scores = np.zeros(num_agents)                          # initialize the score (for each agent)\n",
    "    for t in range(1000):\n",
    "         #sleep(0.1)                                       # for debugging and video recording\n",
    "        actions = np.random.randn(num_agents, action_size) # select an action (for each agent)\n",
    "        actions = np.clip(actions, -1, 1)                  # all actions between -1 and 1\n",
    "        env_info = env.step(actions)[brain_name]           # send all actions to tne environment\n",
    "        next_states = env_info.vector_observations         # get next state (for each agent)\n",
    "        rewards = env_info.rewards                         # get reward (for each agent)\n",
    "        done = env_info.local_done                        # see if episode finished\n",
    "        scores += env_info.rewards                         # update the score (for each agent)\n",
    "        states = next_states                               # roll over states to next time step\n",
    "        if np.any(done):                                  # exit loop if episode finished\n",
    "            break\n",
    "            \n",
    "    episode_score.append(np.mean(scores))\n",
    "\n",
    "# Plot and print the achived scores during this episode\n",
    "print(\"Score of 20 trained agents: {}\".format(episode_score))\n",
    "\n",
    "fig = plt.figure(figsize=(15,5))\n",
    "ax = fig.add_subplot(111)\n",
    "plt.plot(1+np.arange(len(episode_score)),episode_score)\n",
    "plt.ylabel('Score')\n",
    "plt.xlabel('Episode #')\n",
    "plt.title('Performance of 20 untrained agents')\n",
    "plt.show()"
   ]
  },
  {
   "cell_type": "markdown",
   "metadata": {},
   "source": [
    "<hr>"
   ]
  },
  {
   "cell_type": "markdown",
   "metadata": {},
   "source": [
    "# Train the Agent/Model with DDPG"
   ]
  },
  {
   "cell_type": "markdown",
   "metadata": {},
   "source": [
    "**Example Video of an agent while training.**  \n",
    "After the following code cell is executed the video can be started via the play button."
   ]
  },
  {
   "cell_type": "code",
   "execution_count": 8,
   "metadata": {
    "ExecuteTime": {
     "end_time": "2019-03-02T04:10:07.804684Z",
     "start_time": "2019-03-02T04:10:07.315927Z"
    }
   },
   "outputs": [
    {
     "data": {
      "text/html": [
       "<div align=\"middle\"><video width=\"80%\" height=\"\" controls><source src=\"media/02_p3_t_training.mp4\" type=\"video/mp4\"></video></div>"
      ],
      "text/plain": [
       "<IPython.core.display.HTML object>"
      ]
     },
     "execution_count": 8,
     "metadata": {},
     "output_type": "execute_result"
    }
   ],
   "source": [
    "HTML(\"\"\"<div align=\"middle\"><video width=\"80%\" height=\"\" controls><source src=\"media/02_p3_t_training.mp4\" type=\"video/mp4\"></video></div>\"\"\")"
   ]
  },
  {
   "cell_type": "markdown",
   "metadata": {},
   "source": [
    "<div style=\"text-align: justify\">\n",
    "The training code cell below train the agent from scratch and output the agent's performance continuously. The used parameters have been found by systematically empirical analysis. Once the agent exceeds the score +0.5, which is defined that the environment and task is solved the program save the model weights of the trained agent in the folder \"./model_weights/\" and returns the score for the subsequent plot.\n",
    "</div>"
   ]
  },
  {
   "cell_type": "code",
   "execution_count": 9,
   "metadata": {
    "ExecuteTime": {
     "end_time": "2019-03-02T07:42:03.587049Z",
     "start_time": "2019-03-02T04:10:07.805610Z"
    },
    "scrolled": false
   },
   "outputs": [
    {
     "name": "stdout",
     "output_type": "stream",
     "text": [
      "\n",
      "Ep.:   10   Ep.T.A.Score:  0.02\tEp.Max.S.:  0.00\tOUN_sig.: 0.569\tEp.Du.Sec.: 0.33\n",
      "Ep.:   20   Ep.T.A.Score:  0.01\tEp.Max.S.:  0.00\tOUN_sig.: 0.341\tEp.Du.Sec.: 0.37\n",
      "Ep.:   30   Ep.T.A.Score:  0.01\tEp.Max.S.:  0.00\tOUN_sig.: 0.204\tEp.Du.Sec.: 0.52\n",
      "Ep.:   40   Ep.T.A.Score:  0.01\tEp.Max.S.:  0.00\tOUN_sig.: 0.122\tEp.Du.Sec.: 0.51\n",
      "Ep.:   50   Ep.T.A.Score:  0.01\tEp.Max.S.:  0.00\tOUN_sig.: 0.073\tEp.Du.Sec.: 0.48\n",
      "Ep.:   60   Ep.T.A.Score:  0.01\tEp.Max.S.:  0.00\tOUN_sig.: 0.044\tEp.Du.Sec.: 0.49\n",
      "Ep.:   70   Ep.T.A.Score:  0.01\tEp.Max.S.:  0.00\tOUN_sig.: 0.026\tEp.Du.Sec.: 0.55\n",
      "Ep.:   80   Ep.T.A.Score:  0.01\tEp.Max.S.:  0.00\tOUN_sig.: 0.016\tEp.Du.Sec.: 0.50\n",
      "Ep.:   90   Ep.T.A.Score:  0.01\tEp.Max.S.:  0.00\tOUN_sig.: 0.010\tEp.Du.Sec.: 0.51\n",
      "Ep.:  100   Ep.T.A.Score:  0.01\tEp.Max.S.:  0.00\tOUN_sig.: 0.010\tEp.Du.Sec.: 0.50\n",
      "Ep.:  110   Ep.T.A.Score:  0.01\tEp.Max.S.:  0.00\tOUN_sig.: 0.010\tEp.Du.Sec.: 0.50\n",
      "Ep.:  120   Ep.T.A.Score:  0.00\tEp.Max.S.:  0.00\tOUN_sig.: 0.010\tEp.Du.Sec.: 0.56\n",
      "Ep.:  130   Ep.T.A.Score:  0.00\tEp.Max.S.:  0.00\tOUN_sig.: 0.010\tEp.Du.Sec.: 0.33\n",
      "Ep.:  140   Ep.T.A.Score:  0.00\tEp.Max.S.:  0.00\tOUN_sig.: 0.010\tEp.Du.Sec.: 0.54\n",
      "Ep.:  150   Ep.T.A.Score:  0.00\tEp.Max.S.:  0.00\tOUN_sig.: 0.010\tEp.Du.Sec.: 0.50\n",
      "Ep.:  160   Ep.T.A.Score:  0.00\tEp.Max.S.:  0.00\tOUN_sig.: 0.010\tEp.Du.Sec.: 0.52\n",
      "Ep.:  170   Ep.T.A.Score:  0.00\tEp.Max.S.:  0.00\tOUN_sig.: 0.010\tEp.Du.Sec.: 0.48\n",
      "Ep.:  180   Ep.T.A.Score:  0.00\tEp.Max.S.:  0.00\tOUN_sig.: 0.010\tEp.Du.Sec.: 0.47\n",
      "Ep.:  190   Ep.T.A.Score:  0.00\tEp.Max.S.:  0.00\tOUN_sig.: 0.010\tEp.Du.Sec.: 0.69\n",
      "Ep.:  200   Ep.T.A.Score:  0.00\tEp.Max.S.:  0.00\tOUN_sig.: 0.010\tEp.Du.Sec.: 0.49\n",
      "Ep.:  210   Ep.T.A.Score:  0.00\tEp.Max.S.:  0.00\tOUN_sig.: 0.010\tEp.Du.Sec.: 0.49\n",
      "Ep.:  220   Ep.T.A.Score:  0.00\tEp.Max.S.:  0.00\tOUN_sig.: 0.010\tEp.Du.Sec.: 0.51\n",
      "Ep.:  230   Ep.T.A.Score:  0.01\tEp.Max.S.:  0.00\tOUN_sig.: 0.010\tEp.Du.Sec.: 0.52\n",
      "Ep.:  240   Ep.T.A.Score:  0.01\tEp.Max.S.:  0.10\tOUN_sig.: 0.010\tEp.Du.Sec.: 0.89\n",
      "Ep.:  250   Ep.T.A.Score:  0.01\tEp.Max.S.:  0.10\tOUN_sig.: 0.010\tEp.Du.Sec.: 1.02\n",
      "Ep.:  260   Ep.T.A.Score:  0.02\tEp.Max.S.:  0.30\tOUN_sig.: 0.010\tEp.Du.Sec.: 3.44\n",
      "Ep.:  270   Ep.T.A.Score:  0.02\tEp.Max.S.:  0.00\tOUN_sig.: 0.010\tEp.Du.Sec.: 0.47\n",
      "Ep.:  280   Ep.T.A.Score:  0.02\tEp.Max.S.:  0.09\tOUN_sig.: 0.010\tEp.Du.Sec.: 1.08\n",
      "Ep.:  290   Ep.T.A.Score:  0.03\tEp.Max.S.:  0.00\tOUN_sig.: 0.010\tEp.Du.Sec.: 0.75\n",
      "Ep.:  300   Ep.T.A.Score:  0.04\tEp.Max.S.:  0.10\tOUN_sig.: 0.010\tEp.Du.Sec.: 1.01\n",
      "Ep.:  310   Ep.T.A.Score:  0.04\tEp.Max.S.:  0.10\tOUN_sig.: 0.010\tEp.Du.Sec.: 1.10\n",
      "Ep.:  320   Ep.T.A.Score:  0.04\tEp.Max.S.:  0.00\tOUN_sig.: 0.010\tEp.Du.Sec.: 0.53\n",
      "Ep.:  330   Ep.T.A.Score:  0.05\tEp.Max.S.:  0.10\tOUN_sig.: 0.010\tEp.Du.Sec.: 1.14\n",
      "Ep.:  340   Ep.T.A.Score:  0.05\tEp.Max.S.:  0.00\tOUN_sig.: 0.010\tEp.Du.Sec.: 0.34\n",
      "Ep.:  350   Ep.T.A.Score:  0.05\tEp.Max.S.:  0.00\tOUN_sig.: 0.010\tEp.Du.Sec.: 0.50\n",
      "Ep.:  360   Ep.T.A.Score:  0.04\tEp.Max.S.:  0.00\tOUN_sig.: 0.010\tEp.Du.Sec.: 0.53\n",
      "Ep.:  370   Ep.T.A.Score:  0.04\tEp.Max.S.:  0.00\tOUN_sig.: 0.010\tEp.Du.Sec.: 0.52\n",
      "Ep.:  380   Ep.T.A.Score:  0.03\tEp.Max.S.:  0.00\tOUN_sig.: 0.010\tEp.Du.Sec.: 0.56\n",
      "Ep.:  390   Ep.T.A.Score:  0.03\tEp.Max.S.:  0.00\tOUN_sig.: 0.010\tEp.Du.Sec.: 0.48\n",
      "Ep.:  400   Ep.T.A.Score:  0.03\tEp.Max.S.:  0.10\tOUN_sig.: 0.010\tEp.Du.Sec.: 0.98\n",
      "Ep.:  410   Ep.T.A.Score:  0.03\tEp.Max.S.:  0.09\tOUN_sig.: 0.010\tEp.Du.Sec.: 1.15\n",
      "Ep.:  420   Ep.T.A.Score:  0.04\tEp.Max.S.:  0.10\tOUN_sig.: 0.010\tEp.Du.Sec.: 1.03\n",
      "Ep.:  430   Ep.T.A.Score:  0.04\tEp.Max.S.:  0.00\tOUN_sig.: 0.010\tEp.Du.Sec.: 0.54\n",
      "Ep.:  440   Ep.T.A.Score:  0.04\tEp.Max.S.:  0.00\tOUN_sig.: 0.010\tEp.Du.Sec.: 0.54\n",
      "Ep.:  450   Ep.T.A.Score:  0.04\tEp.Max.S.:  0.00\tOUN_sig.: 0.010\tEp.Du.Sec.: 0.59\n",
      "Ep.:  460   Ep.T.A.Score:  0.04\tEp.Max.S.:  0.00\tOUN_sig.: 0.010\tEp.Du.Sec.: 0.53\n",
      "Ep.:  470   Ep.T.A.Score:  0.04\tEp.Max.S.:  0.10\tOUN_sig.: 0.010\tEp.Du.Sec.: 0.98\n",
      "Ep.:  480   Ep.T.A.Score:  0.05\tEp.Max.S.:  0.10\tOUN_sig.: 0.010\tEp.Du.Sec.: 1.07\n",
      "Ep.:  490   Ep.T.A.Score:  0.07\tEp.Max.S.:  0.10\tOUN_sig.: 0.010\tEp.Du.Sec.: 1.99\n",
      "Ep.:  500   Ep.T.A.Score:  0.08\tEp.Max.S.:  0.19\tOUN_sig.: 0.010\tEp.Du.Sec.: 2.35\n",
      "Ep.:  510   Ep.T.A.Score:  0.08\tEp.Max.S.:  0.09\tOUN_sig.: 0.010\tEp.Du.Sec.: 1.05\n",
      "Ep.:  520   Ep.T.A.Score:  0.08\tEp.Max.S.:  0.09\tOUN_sig.: 0.010\tEp.Du.Sec.: 1.01\n",
      "Ep.:  530   Ep.T.A.Score:  0.08\tEp.Max.S.:  0.09\tOUN_sig.: 0.010\tEp.Du.Sec.: 1.02\n",
      "Ep.:  540   Ep.T.A.Score:  0.09\tEp.Max.S.:  0.10\tOUN_sig.: 0.010\tEp.Du.Sec.: 1.05\n",
      "Ep.:  550   Ep.T.A.Score:  0.10\tEp.Max.S.:  0.10\tOUN_sig.: 0.010\tEp.Du.Sec.: 1.75\n",
      "Ep.:  560   Ep.T.A.Score:  0.11\tEp.Max.S.:  0.10\tOUN_sig.: 0.010\tEp.Du.Sec.: 1.20\n",
      "Ep.:  570   Ep.T.A.Score:  0.12\tEp.Max.S.:  0.10\tOUN_sig.: 0.010\tEp.Du.Sec.: 0.99\n",
      "Ep.:  580   Ep.T.A.Score:  0.12\tEp.Max.S.:  0.10\tOUN_sig.: 0.010\tEp.Du.Sec.: 1.09\n",
      "Ep.:  590   Ep.T.A.Score:  0.12\tEp.Max.S.:  0.10\tOUN_sig.: 0.010\tEp.Du.Sec.: 1.05\n",
      "Ep.:  600   Ep.T.A.Score:  0.12\tEp.Max.S.:  0.20\tOUN_sig.: 0.010\tEp.Du.Sec.: 2.48\n",
      "Ep.:  610   Ep.T.A.Score:  0.13\tEp.Max.S.:  0.19\tOUN_sig.: 0.010\tEp.Du.Sec.: 2.48\n",
      "Ep.:  620   Ep.T.A.Score:  0.13\tEp.Max.S.:  0.10\tOUN_sig.: 0.010\tEp.Du.Sec.: 0.99\n",
      "Ep.:  630   Ep.T.A.Score:  0.14\tEp.Max.S.:  0.10\tOUN_sig.: 0.010\tEp.Du.Sec.: 2.02\n",
      "Ep.:  640   Ep.T.A.Score:  0.14\tEp.Max.S.:  0.30\tOUN_sig.: 0.010\tEp.Du.Sec.: 3.72\n",
      "Ep.:  650   Ep.T.A.Score:  0.14\tEp.Max.S.:  0.10\tOUN_sig.: 0.010\tEp.Du.Sec.: 1.73\n",
      "Ep.:  660   Ep.T.A.Score:  0.14\tEp.Max.S.:  0.10\tOUN_sig.: 0.010\tEp.Du.Sec.: 1.71\n",
      "Ep.:  670   Ep.T.A.Score:  0.14\tEp.Max.S.:  0.09\tOUN_sig.: 0.010\tEp.Du.Sec.: 1.01\n",
      "Ep.:  680   Ep.T.A.Score:  0.14\tEp.Max.S.:  0.10\tOUN_sig.: 0.010\tEp.Du.Sec.: 1.00\n",
      "Ep.:  690   Ep.T.A.Score:  0.14\tEp.Max.S.:  0.10\tOUN_sig.: 0.010\tEp.Du.Sec.: 1.35\n",
      "Ep.:  700   Ep.T.A.Score:  0.13\tEp.Max.S.:  0.10\tOUN_sig.: 0.010\tEp.Du.Sec.: 0.99\n",
      "Ep.:  710   Ep.T.A.Score:  0.13\tEp.Max.S.:  0.09\tOUN_sig.: 0.010\tEp.Du.Sec.: 1.02\n",
      "Ep.:  720   Ep.T.A.Score:  0.13\tEp.Max.S.:  0.10\tOUN_sig.: 0.010\tEp.Du.Sec.: 1.05\n",
      "Ep.:  730   Ep.T.A.Score:  0.12\tEp.Max.S.:  0.10\tOUN_sig.: 0.010\tEp.Du.Sec.: 1.04\n",
      "Ep.:  740   Ep.T.A.Score:  0.12\tEp.Max.S.:  0.20\tOUN_sig.: 0.010\tEp.Du.Sec.: 2.34\n",
      "Ep.:  750   Ep.T.A.Score:  0.12\tEp.Max.S.:  0.20\tOUN_sig.: 0.010\tEp.Du.Sec.: 2.34\n",
      "Ep.:  760   Ep.T.A.Score:  0.13\tEp.Max.S.:  0.10\tOUN_sig.: 0.010\tEp.Du.Sec.: 1.86\n",
      "Ep.:  770   Ep.T.A.Score:  0.13\tEp.Max.S.:  0.20\tOUN_sig.: 0.010\tEp.Du.Sec.: 3.00\n",
      "Ep.:  780   Ep.T.A.Score:  0.13\tEp.Max.S.:  0.10\tOUN_sig.: 0.010\tEp.Du.Sec.: 1.78\n",
      "Ep.:  790   Ep.T.A.Score:  0.14\tEp.Max.S.:  0.20\tOUN_sig.: 0.010\tEp.Du.Sec.: 2.24\n",
      "Ep.:  800   Ep.T.A.Score:  0.14\tEp.Max.S.:  0.30\tOUN_sig.: 0.010\tEp.Du.Sec.: 3.44\n",
      "Ep.:  810   Ep.T.A.Score:  0.15\tEp.Max.S.:  0.10\tOUN_sig.: 0.010\tEp.Du.Sec.: 1.65\n",
      "Ep.:  820   Ep.T.A.Score:  0.16\tEp.Max.S.:  0.19\tOUN_sig.: 0.010\tEp.Du.Sec.: 2.17\n",
      "Ep.:  830   Ep.T.A.Score:  0.17\tEp.Max.S.:  0.10\tOUN_sig.: 0.010\tEp.Du.Sec.: 1.41\n",
      "Ep.:  840   Ep.T.A.Score:  0.18\tEp.Max.S.:  0.40\tOUN_sig.: 0.010\tEp.Du.Sec.: 5.90\n",
      "Ep.:  850   Ep.T.A.Score:  0.18\tEp.Max.S.:  0.10\tOUN_sig.: 0.010\tEp.Du.Sec.: 1.03\n",
      "Ep.:  860   Ep.T.A.Score:  0.20\tEp.Max.S.:  1.00\tOUN_sig.: 0.010\tEp.Du.Sec.: 13.41\n",
      "Ep.:  870   Ep.T.A.Score:  0.22\tEp.Max.S.:  0.19\tOUN_sig.: 0.010\tEp.Du.Sec.: 2.23\n",
      "Ep.:  880   Ep.T.A.Score:  0.24\tEp.Max.S.:  0.29\tOUN_sig.: 0.010\tEp.Du.Sec.: 3.44\n",
      "Ep.:  890   Ep.T.A.Score:  0.31\tEp.Max.S.:  0.20\tOUN_sig.: 0.010\tEp.Du.Sec.: 1.75\n",
      "Ep.:  900   Ep.T.A.Score:  0.39\tEp.Max.S.:  0.20\tOUN_sig.: 0.010\tEp.Du.Sec.: 2.39\n",
      "Ep.:  910   Ep.T.A.Score:  0.47\tEp.Max.S.:  1.10\tOUN_sig.: 0.010\tEp.Du.Sec.: 15.21\n",
      "Environment solved in 915 episodes!\tAverage Score: 0.52\n",
      "\n",
      "Ep.:  920   Ep.T.A.Score:  0.58\tEp.Max.S.:  1.49\tOUN_sig.: 0.010\tEp.Du.Sec.: 19.42\n",
      "Ep.:  930   Ep.T.A.Score:  0.66\tEp.Max.S.:  2.50\tOUN_sig.: 0.010\tEp.Du.Sec.: 34.46\n",
      "Ep.:  940   Ep.T.A.Score:  0.75\tEp.Max.S.:  0.30\tOUN_sig.: 0.010\tEp.Du.Sec.: 4.17\n",
      "Ep.:  950   Ep.T.A.Score:  0.83\tEp.Max.S.:  0.90\tOUN_sig.: 0.010\tEp.Du.Sec.: 12.72\n",
      "Ep.:  960   Ep.T.A.Score:  0.90\tEp.Max.S.:  2.60\tOUN_sig.: 0.010\tEp.Du.Sec.: 36.68\n",
      "Ep.:  970   Ep.T.A.Score:  0.93\tEp.Max.S.:  0.70\tOUN_sig.: 0.010\tEp.Du.Sec.: 9.75\n",
      "Ep.:  980   Ep.T.A.Score:  0.96\tEp.Max.S.:  0.30\tOUN_sig.: 0.010\tEp.Du.Sec.: 4.42\n",
      "Ep.:  990   Ep.T.A.Score:  1.01\tEp.Max.S.:  2.50\tOUN_sig.: 0.010\tEp.Du.Sec.: 33.86\n"
     ]
    },
    {
     "name": "stdout",
     "output_type": "stream",
     "text": [
      "Ep.: 1000   Ep.T.A.Score:  0.97\tEp.Max.S.:  0.50\tOUN_sig.: 0.010\tEp.Du.Sec.: 7.66\n",
      "Ep.: 1010   Ep.T.A.Score:  0.91\tEp.Max.S.:  2.20\tOUN_sig.: 0.010\tEp.Du.Sec.: 32.32\n",
      "Ep.: 1020   Ep.T.A.Score:  0.83\tEp.Max.S.:  0.70\tOUN_sig.: 0.010\tEp.Du.Sec.: 9.97\n",
      "Ep.: 1030   Ep.T.A.Score:  0.76\tEp.Max.S.:  0.30\tOUN_sig.: 0.010\tEp.Du.Sec.: 4.21\n",
      "Ep.: 1040   Ep.T.A.Score:  0.68\tEp.Max.S.:  0.10\tOUN_sig.: 0.010\tEp.Du.Sec.: 2.25\n",
      "Ep.: 1050   Ep.T.A.Score:  0.63\tEp.Max.S.:  0.20\tOUN_sig.: 0.010\tEp.Du.Sec.: 2.45\n",
      "Ep.: 1060   Ep.T.A.Score:  0.62\tEp.Max.S.:  2.00\tOUN_sig.: 0.010\tEp.Du.Sec.: 28.18\n",
      "Ep.: 1070   Ep.T.A.Score:  0.60\tEp.Max.S.:  0.20\tOUN_sig.: 0.010\tEp.Du.Sec.: 2.32\n",
      "Ep.: 1080   Ep.T.A.Score:  0.64\tEp.Max.S.:  1.70\tOUN_sig.: 0.010\tEp.Du.Sec.: 24.27\n",
      "Ep.: 1090   Ep.T.A.Score:  0.63\tEp.Max.S.:  0.30\tOUN_sig.: 0.010\tEp.Du.Sec.: 3.69\n",
      "Ep.: 1100   Ep.T.A.Score:  0.71\tEp.Max.S.:  2.60\tOUN_sig.: 0.010\tEp.Du.Sec.: 36.24\n",
      "Ep.: 1110   Ep.T.A.Score:  0.76\tEp.Max.S.:  1.50\tOUN_sig.: 0.010\tEp.Du.Sec.: 21.74\n",
      "Ep.: 1120   Ep.T.A.Score:  0.77\tEp.Max.S.:  1.00\tOUN_sig.: 0.010\tEp.Du.Sec.: 14.88\n",
      "Ep.: 1130   Ep.T.A.Score:  0.78\tEp.Max.S.:  0.20\tOUN_sig.: 0.010\tEp.Du.Sec.: 2.25\n",
      "Ep.: 1140   Ep.T.A.Score:  0.77\tEp.Max.S.:  0.20\tOUN_sig.: 0.010\tEp.Du.Sec.: 3.52\n",
      "Ep.: 1150   Ep.T.A.Score:  0.77\tEp.Max.S.:  0.90\tOUN_sig.: 0.010\tEp.Du.Sec.: 13.21\n",
      "Ep.: 1160   Ep.T.A.Score:  0.73\tEp.Max.S.:  0.79\tOUN_sig.: 0.010\tEp.Du.Sec.: 11.83\n",
      "Ep.: 1170   Ep.T.A.Score:  0.71\tEp.Max.S.:  0.20\tOUN_sig.: 0.010\tEp.Du.Sec.: 3.52\n",
      "Ep.: 1180   Ep.T.A.Score:  0.66\tEp.Max.S.:  0.30\tOUN_sig.: 0.010\tEp.Du.Sec.: 5.52\n",
      "Ep.: 1190   Ep.T.A.Score:  0.60\tEp.Max.S.:  0.40\tOUN_sig.: 0.010\tEp.Du.Sec.: 5.59\n",
      "Ep.: 1200   Ep.T.A.Score:  0.54\tEp.Max.S.:  0.10\tOUN_sig.: 0.010\tEp.Du.Sec.: 1.07\n",
      "Ep.: 1210   Ep.T.A.Score:  0.53\tEp.Max.S.:  2.00\tOUN_sig.: 0.010\tEp.Du.Sec.: 29.32\n",
      "Ep.: 1220   Ep.T.A.Score:  0.57\tEp.Max.S.:  0.99\tOUN_sig.: 0.010\tEp.Du.Sec.: 14.08\n",
      "Ep.: 1230   Ep.T.A.Score:  0.58\tEp.Max.S.:  0.40\tOUN_sig.: 0.010\tEp.Du.Sec.: 5.99\n",
      "Ep.: 1240   Ep.T.A.Score:  0.62\tEp.Max.S.:  0.39\tOUN_sig.: 0.010\tEp.Du.Sec.: 5.34\n",
      "Ep.: 1250   Ep.T.A.Score:  0.64\tEp.Max.S.:  0.40\tOUN_sig.: 0.010\tEp.Du.Sec.: 6.23\n",
      "Ep.: 1260   Ep.T.A.Score:  0.72\tEp.Max.S.:  1.00\tOUN_sig.: 0.010\tEp.Du.Sec.: 13.81\n",
      "Ep.: 1270   Ep.T.A.Score:  0.76\tEp.Max.S.:  2.20\tOUN_sig.: 0.010\tEp.Du.Sec.: 30.79\n",
      "Ep.: 1280   Ep.T.A.Score:  0.79\tEp.Max.S.:  0.30\tOUN_sig.: 0.010\tEp.Du.Sec.: 3.75\n",
      "Ep.: 1290   Ep.T.A.Score:  0.77\tEp.Max.S.:  0.10\tOUN_sig.: 0.010\tEp.Du.Sec.: 1.17\n",
      "Ep.: 1300   Ep.T.A.Score:  0.78\tEp.Max.S.:  0.00\tOUN_sig.: 0.010\tEp.Du.Sec.: 0.22\n",
      "Ep.: 1310   Ep.T.A.Score:  0.81\tEp.Max.S.:  0.90\tOUN_sig.: 0.010\tEp.Du.Sec.: 12.92\n",
      "Ep.: 1320   Ep.T.A.Score:  0.78\tEp.Max.S.:  0.80\tOUN_sig.: 0.010\tEp.Du.Sec.: 11.02\n",
      "Ep.: 1330   Ep.T.A.Score:  0.77\tEp.Max.S.:  0.30\tOUN_sig.: 0.010\tEp.Du.Sec.: 3.78\n",
      "Ep.: 1340   Ep.T.A.Score:  0.82\tEp.Max.S.:  0.40\tOUN_sig.: 0.010\tEp.Du.Sec.: 5.96\n",
      "Ep.: 1350   Ep.T.A.Score:  0.88\tEp.Max.S.:  1.10\tOUN_sig.: 0.010\tEp.Du.Sec.: 15.28\n",
      "Ep.: 1360   Ep.T.A.Score:  0.84\tEp.Max.S.:  0.30\tOUN_sig.: 0.010\tEp.Du.Sec.: 4.61\n",
      "Ep.: 1370   Ep.T.A.Score:  0.85\tEp.Max.S.:  0.30\tOUN_sig.: 0.010\tEp.Du.Sec.: 3.99\n",
      "Ep.: 1380   Ep.T.A.Score:  0.84\tEp.Max.S.:  1.00\tOUN_sig.: 0.010\tEp.Du.Sec.: 14.19\n",
      "Ep.: 1390   Ep.T.A.Score:  0.82\tEp.Max.S.:  0.30\tOUN_sig.: 0.010\tEp.Du.Sec.: 4.54\n",
      "Ep.: 1400   Ep.T.A.Score:  0.82\tEp.Max.S.:  0.20\tOUN_sig.: 0.010\tEp.Du.Sec.: 2.74\n",
      "Ep.: 1410   Ep.T.A.Score:  0.80\tEp.Max.S.:  0.10\tOUN_sig.: 0.010\tEp.Du.Sec.: 0.70\n",
      "Ep.: 1420   Ep.T.A.Score:  0.81\tEp.Max.S.:  0.90\tOUN_sig.: 0.010\tEp.Du.Sec.: 12.67\n",
      "Ep.: 1430   Ep.T.A.Score:  0.84\tEp.Max.S.:  0.50\tOUN_sig.: 0.010\tEp.Du.Sec.: 6.82\n",
      "Ep.: 1440   Ep.T.A.Score:  0.78\tEp.Max.S.:  0.60\tOUN_sig.: 0.010\tEp.Du.Sec.: 8.86\n",
      "Ep.: 1450   Ep.T.A.Score:  0.71\tEp.Max.S.:  0.69\tOUN_sig.: 0.010\tEp.Du.Sec.: 10.37\n",
      "Ep.: 1460   Ep.T.A.Score:  0.67\tEp.Max.S.:  0.40\tOUN_sig.: 0.010\tEp.Du.Sec.: 6.67\n",
      "Ep.: 1470   Ep.T.A.Score:  0.65\tEp.Max.S.:  0.50\tOUN_sig.: 0.010\tEp.Du.Sec.: 7.45\n",
      "Ep.: 1480   Ep.T.A.Score:  0.68\tEp.Max.S.:  0.20\tOUN_sig.: 0.010\tEp.Du.Sec.: 3.63\n",
      "Ep.: 1490   Ep.T.A.Score:  0.70\tEp.Max.S.:  0.30\tOUN_sig.: 0.010\tEp.Du.Sec.: 4.21\n",
      "Ep.: 1500   Ep.T.A.Score:  0.72\tEp.Max.S.:  0.10\tOUN_sig.: 0.010\tEp.Du.Sec.: 1.85\n",
      "Ep.: 1510   Ep.T.A.Score:  0.74\tEp.Max.S.:  0.30\tOUN_sig.: 0.010\tEp.Du.Sec.: 3.61\n",
      "Ep.: 1520   Ep.T.A.Score:  0.77\tEp.Max.S.:  2.60\tOUN_sig.: 0.010\tEp.Du.Sec.: 36.92\n",
      "Ep.: 1530   Ep.T.A.Score:  0.77\tEp.Max.S.:  1.50\tOUN_sig.: 0.010\tEp.Du.Sec.: 21.65\n",
      "Ep.: 1540   Ep.T.A.Score:  0.79\tEp.Max.S.:  0.29\tOUN_sig.: 0.010\tEp.Du.Sec.: 4.25\n",
      "Ep.: 1550   Ep.T.A.Score:  0.82\tEp.Max.S.:  0.30\tOUN_sig.: 0.010\tEp.Du.Sec.: 4.99\n",
      "Ep.: 1560   Ep.T.A.Score:  0.89\tEp.Max.S.:  0.10\tOUN_sig.: 0.010\tEp.Du.Sec.: 1.13\n",
      "Ep.: 1570   Ep.T.A.Score:  0.91\tEp.Max.S.:  0.00\tOUN_sig.: 0.010\tEp.Du.Sec.: 0.53\n",
      "Ep.: 1580   Ep.T.A.Score:  0.90\tEp.Max.S.:  1.20\tOUN_sig.: 0.010\tEp.Du.Sec.: 16.67\n",
      "Ep.: 1590   Ep.T.A.Score:  0.96\tEp.Max.S.:  1.80\tOUN_sig.: 0.010\tEp.Du.Sec.: 25.45\n",
      "Ep.: 1600   Ep.T.A.Score:  0.92\tEp.Max.S.:  0.10\tOUN_sig.: 0.010\tEp.Du.Sec.: 2.04\n",
      "Ep.: 1610   Ep.T.A.Score:  0.84\tEp.Max.S.:  0.60\tOUN_sig.: 0.010\tEp.Du.Sec.: 9.13\n",
      "Ep.: 1620   Ep.T.A.Score:  0.79\tEp.Max.S.:  1.20\tOUN_sig.: 0.010\tEp.Du.Sec.: 17.12\n",
      "Ep.: 1630   Ep.T.A.Score:  0.89\tEp.Max.S.:  2.70\tOUN_sig.: 0.010\tEp.Du.Sec.: 36.48\n",
      "Ep.: 1640   Ep.T.A.Score:  0.91\tEp.Max.S.:  0.00\tOUN_sig.: 0.010\tEp.Du.Sec.: 0.65\n",
      "Ep.: 1650   Ep.T.A.Score:  0.91\tEp.Max.S.:  0.10\tOUN_sig.: 0.010\tEp.Du.Sec.: 1.08\n",
      "Ep.: 1660   Ep.T.A.Score:  0.90\tEp.Max.S.:  0.60\tOUN_sig.: 0.010\tEp.Du.Sec.: 8.79\n",
      "Ep.: 1670   Ep.T.A.Score:  0.95\tEp.Max.S.:  2.60\tOUN_sig.: 0.010\tEp.Du.Sec.: 36.96\n",
      "Ep.: 1680   Ep.T.A.Score:  0.89\tEp.Max.S.:  0.10\tOUN_sig.: 0.010\tEp.Du.Sec.: 2.36\n",
      "Ep.: 1690   Ep.T.A.Score:  0.81\tEp.Max.S.:  0.09\tOUN_sig.: 0.010\tEp.Du.Sec.: 0.95\n",
      "Ep.: 1700   Ep.T.A.Score:  0.80\tEp.Max.S.:  0.50\tOUN_sig.: 0.010\tEp.Du.Sec.: 6.51\n",
      "Ep.: 1710   Ep.T.A.Score:  0.83\tEp.Max.S.:  0.50\tOUN_sig.: 0.010\tEp.Du.Sec.: 7.93\n",
      "Ep.: 1720   Ep.T.A.Score:  0.86\tEp.Max.S.:  1.70\tOUN_sig.: 0.010\tEp.Du.Sec.: 24.18\n",
      "Ep.: 1730   Ep.T.A.Score:  0.75\tEp.Max.S.:  0.10\tOUN_sig.: 0.010\tEp.Du.Sec.: 2.10\n",
      "Ep.: 1740   Ep.T.A.Score:  0.69\tEp.Max.S.:  0.10\tOUN_sig.: 0.010\tEp.Du.Sec.: 2.05\n",
      "Ep.: 1750   Ep.T.A.Score:  0.62\tEp.Max.S.:  0.20\tOUN_sig.: 0.010\tEp.Du.Sec.: 2.71\n",
      "Ep.: 1760   Ep.T.A.Score:  0.55\tEp.Max.S.:  0.10\tOUN_sig.: 0.010\tEp.Du.Sec.: 2.07\n",
      "Ep.: 1770   Ep.T.A.Score:  0.47\tEp.Max.S.:  0.90\tOUN_sig.: 0.010\tEp.Du.Sec.: 13.60\n",
      "Ep.: 1780   Ep.T.A.Score:  0.53\tEp.Max.S.:  0.00\tOUN_sig.: 0.010\tEp.Du.Sec.: 0.17\n",
      "Ep.: 1790   Ep.T.A.Score:  0.60\tEp.Max.S.:  1.30\tOUN_sig.: 0.010\tEp.Du.Sec.: 17.97\n",
      "Ep.: 1800   Ep.T.A.Score:  0.64\tEp.Max.S.:  0.59\tOUN_sig.: 0.010\tEp.Du.Sec.: 7.96\n",
      "Ep.: 1810   Ep.T.A.Score:  0.67\tEp.Max.S.:  2.20\tOUN_sig.: 0.010\tEp.Du.Sec.: 31.19\n",
      "Ep.: 1820   Ep.T.A.Score:  0.64\tEp.Max.S.:  0.40\tOUN_sig.: 0.010\tEp.Du.Sec.: 6.21\n",
      "Ep.: 1830   Ep.T.A.Score:  0.64\tEp.Max.S.:  0.30\tOUN_sig.: 0.010\tEp.Du.Sec.: 4.37\n",
      "Ep.: 1840   Ep.T.A.Score:  0.65\tEp.Max.S.:  0.30\tOUN_sig.: 0.010\tEp.Du.Sec.: 4.71\n",
      "Ep.: 1850   Ep.T.A.Score:  0.69\tEp.Max.S.:  0.10\tOUN_sig.: 0.010\tEp.Du.Sec.: 1.17\n",
      "Ep.: 1860   Ep.T.A.Score:  0.71\tEp.Max.S.:  0.70\tOUN_sig.: 0.010\tEp.Du.Sec.: 10.34\n",
      "Ep.: 1870   Ep.T.A.Score:  0.70\tEp.Max.S.:  0.30\tOUN_sig.: 0.010\tEp.Du.Sec.: 4.19\n",
      "Ep.: 1880   Ep.T.A.Score:  0.66\tEp.Max.S.:  0.90\tOUN_sig.: 0.010\tEp.Du.Sec.: 12.82\n",
      "Ep.: 1890   Ep.T.A.Score:  0.63\tEp.Max.S.:  0.20\tOUN_sig.: 0.010\tEp.Du.Sec.: 3.12\n",
      "Ep.: 1900   Ep.T.A.Score:  0.60\tEp.Max.S.:  0.30\tOUN_sig.: 0.010\tEp.Du.Sec.: 4.05\n",
      "Ep.: 1910   Ep.T.A.Score:  0.54\tEp.Max.S.:  0.80\tOUN_sig.: 0.010\tEp.Du.Sec.: 11.28\n",
      "Ep.: 1920   Ep.T.A.Score:  0.55\tEp.Max.S.:  0.60\tOUN_sig.: 0.010\tEp.Du.Sec.: 8.35\n",
      "Ep.: 1930   Ep.T.A.Score:  0.62\tEp.Max.S.:  2.20\tOUN_sig.: 0.010\tEp.Du.Sec.: 31.89\n",
      "Ep.: 1940   Ep.T.A.Score:  0.68\tEp.Max.S.:  2.50\tOUN_sig.: 0.010\tEp.Du.Sec.: 36.07\n",
      "Ep.: 1950   Ep.T.A.Score:  0.71\tEp.Max.S.:  0.19\tOUN_sig.: 0.010\tEp.Du.Sec.: 1.65\n",
      "Ep.: 1960   Ep.T.A.Score:  0.70\tEp.Max.S.:  0.20\tOUN_sig.: 0.010\tEp.Du.Sec.: 3.89\n",
      "Ep.: 1970   Ep.T.A.Score:  0.69\tEp.Max.S.:  0.00\tOUN_sig.: 0.010\tEp.Du.Sec.: 0.95\n",
      "Ep.: 1980   Ep.T.A.Score:  0.75\tEp.Max.S.:  0.20\tOUN_sig.: 0.010\tEp.Du.Sec.: 3.47\n"
     ]
    },
    {
     "name": "stdout",
     "output_type": "stream",
     "text": [
      "Ep.: 1990   Ep.T.A.Score:  0.74\tEp.Max.S.:  0.00\tOUN_sig.: 0.010\tEp.Du.Sec.: 0.96\n",
      "Ep.: 2000   Ep.T.A.Score:  0.74\tEp.Max.S.:  0.10\tOUN_sig.: 0.010\tEp.Du.Sec.: 1.07\n",
      "Environment solved in 915 episodes!\tAverage Score: 0.52\n"
     ]
    }
   ],
   "source": [
    "# training code cell\n",
    "def ddpg(n_episodes=2000, max_t=1000):\n",
    "    \"\"\"Deep Q-Learning.\n",
    "    Params\n",
    "    ======\n",
    "        n_episodes (int): maximum number of training episodes\n",
    "        max_t (int): maximum number of timesteps per episode\n",
    "    \"\"\"\n",
    "    agent_score   = np.zeros(num_agents) # initialize the score (for each agent)\n",
    "    episode_score = []                   # list containing scores from each episode\n",
    "    scores_window = deque(maxlen=100)    # last 100 scores\n",
    "    episode_scores_window_mean = []      # list containing mean scores over the last 100 episodes in the scores window\n",
    "    i_episode_solved = 0                 # episodes solved environment\n",
    "    scores_window_solved = scores_window # last 100 scores\n",
    "    \n",
    "    for i_episode in range(1, n_episodes+1):\n",
    "        env_info = env.reset(train_mode=True)[brain_name]  # reset the environment and set in training mode\n",
    "        agent.reset()\n",
    "        state = env_info.vector_observations    # get the next state\n",
    "        agent_score   = np.zeros(num_agents)    # set score (for each agent)\n",
    "        episode_start_time = time()             # episode duration start\n",
    "        \n",
    "        for t in range(max_t):\n",
    "            #sleep(0.1)                                 # for debugging and video recording\n",
    "            action = [agent.act(np.expand_dims(state[i],axis=0), add_noise=True) for i in range(2)] # get action from 2 agents\n",
    "            \n",
    "            env_info = env.step(action)[brain_name]     # send the action to the environment\n",
    "            next_state = env_info.vector_observations   # get the next state\n",
    "            reward = env_info.rewards                   # get the reward\n",
    "            done = env_info.local_done                  # see if episode has finished\n",
    "\n",
    "            [agent.save_experience(state, action, reward, next_state, done) for i, (state, action, reward, next_state, done) in enumerate(zip(state, action, reward, next_state, done))] # store experience in memory\n",
    "            agent.step() # perform learning\n",
    "\n",
    "            state = next_state    # copy next state as current state\n",
    "            agent_score += reward # sum rewards score into agents score\n",
    "\n",
    "            if np.any(done): # check if episode is done\n",
    "                break \n",
    "\n",
    "        # calculate the statistics for agents performance\n",
    "        episode_duration = time() - episode_start_time\n",
    "        \n",
    "        agent_score_max = np.max(agent_score) # maximum score of the two agents score\n",
    "        \n",
    "        scores_window.append(agent_score_max)\n",
    "        episode_score.append(agent_score_max)\n",
    "        \n",
    "        scores_window_mean = np.mean(scores_window) # mean score over the last 100 episode scores\n",
    "        \n",
    "        episode_scores_window_mean.append(scores_window_mean)\n",
    "        \n",
    "        if i_episode % 10 == 0:\n",
    "            # Ep.          = Episode number\n",
    "            # Ep.T.A.Score = Episode average score over the last 100 episode scores\n",
    "            # Ep.Max.S.    = Episode maximum score of the two agents\n",
    "            # Ep.OUN_sig.  = Episode OUNoise_sigma\n",
    "            # Ep.Du.Sec.   = Episode duration in seconds\n",
    "            print('\\nEp.: {:4.0f}   Ep.T.A.Score: {:5.2f}\\tEp.Max.S.: {:5.2f}\\tOUN_sig.: {:0.3f}\\tEp.Du.Sec.: {:.2f}'\n",
    "                  .format(i_episode,scores_window_mean,agent_score_max,agent.noise.sigma,episode_duration), end=\"\")\n",
    "        if scores_window_mean>= 0.5 and i_episode_solved == 0: # check if the score for solving the environment has been exceeded\n",
    "                i_episode_solved     = i_episode\n",
    "                scores_window_solved = scores_window_mean\n",
    "                print('\\nEnvironment solved in {:d} episodes!\\tAverage Score: {:.2f}'.format(i_episode_solved, scores_window_solved))\n",
    "                torch.save(agent.actor_local.state_dict(), './model_weights/agent_actor_local_checkpoint_solved.pth') # save actor weights after environment has been solved\n",
    "                torch.save(agent.critic_local.state_dict(), './model_weights/agent_critic_local_checkpoint_solved.pth') # save critic weights after environment has been solved\n",
    "        \n",
    "    print('\\nEnvironment solved in {:d} episodes!\\tAverage Score: {:.2f}'.format(i_episode_solved, scores_window_solved))\n",
    "    torch.save(agent.actor_local.state_dict(), './model_weights/agent_actor_local_checkpoint_training_finished.pth') # save actor weights after defined steps\n",
    "    torch.save(agent.critic_local.state_dict(), './model_weights/agent_critic_local_checkpoint_training_finished.pth') # save critic weights after defined steps\n",
    "\n",
    "    return (episode_score, episode_scores_window_mean)\n",
    "\n",
    "episode_score, episode_scores_window_mean = ddpg()"
   ]
  },
  {
   "cell_type": "markdown",
   "metadata": {},
   "source": [
    "<hr>"
   ]
  },
  {
   "cell_type": "markdown",
   "metadata": {},
   "source": [
    "# Plotting the training reward scores\n",
    "The following code cell plot the score of the trained agent in blue, as well the average score in red and the target score in green."
   ]
  },
  {
   "cell_type": "code",
   "execution_count": 10,
   "metadata": {
    "ExecuteTime": {
     "end_time": "2019-03-02T07:42:04.217809Z",
     "start_time": "2019-03-02T07:42:03.589014Z"
    },
    "scrolled": false
   },
   "outputs": [
    {
     "data": {
      "image/png": "[encoded data removed]",
      "text/plain": [
       "<Figure size 1080x360 with 1 Axes>"
      ]
     },
     "metadata": {
      "needs_background": "light"
     },
     "output_type": "display_data"
    }
   ],
   "source": [
    "# prepare the plot and plot the score of the trained agent in blue, \n",
    "# as well the average score in red and the target score in green.\n",
    "fig = plt.figure(figsize=(15,5))\n",
    "ax = fig.add_subplot(111)\n",
    "# plot the score of the trained agent in blue\n",
    "plt.plot(1+np.arange(len(np.squeeze(episode_score))), np.squeeze(episode_score), color='b', alpha=0.5, label='Episode Score')\n",
    "# plot the average score of the trained agent in red\n",
    "plt.plot(1+np.arange(len(np.squeeze(episode_scores_window_mean))), episode_scores_window_mean, color='r', alpha=0.7, label='Episode Average Score')\n",
    "# plot the target score in green\n",
    "ax.axhline(y=0.5, xmin=0.0, xmax=1.0, color='g', label=\"Target\")\n",
    "plt.ylabel('Score')\n",
    "plt.xlabel('Episode #')\n",
    "plt.title('Training Reward Score')\n",
    "plt.grid(True)\n",
    "plt.legend(loc=0)\n",
    "plt.show()"
   ]
  },
  {
   "cell_type": "markdown",
   "metadata": {},
   "source": [
    "<hr>"
   ]
  },
  {
   "cell_type": "markdown",
   "metadata": {},
   "source": [
    "# Testing a trained agent and print the score as well plot the reward scores"
   ]
  },
  {
   "cell_type": "markdown",
   "metadata": {},
   "source": [
    "**Example Video of trained agent.**  \n",
    "After the following code cell is executed the video can be started via the play button."
   ]
  },
  {
   "cell_type": "code",
   "execution_count": 11,
   "metadata": {
    "ExecuteTime": {
     "end_time": "2019-03-02T07:42:04.715595Z",
     "start_time": "2019-03-02T07:42:04.268822Z"
    }
   },
   "outputs": [
    {
     "data": {
      "text/html": [
       "<div align=\"middle\"><video width=\"80%\" height=\"\" controls><source src=\"media/03_p3_t_trained.mp4\" type=\"video/mp4\"></video></div>"
      ],
      "text/plain": [
       "<IPython.core.display.HTML object>"
      ]
     },
     "execution_count": 11,
     "metadata": {},
     "output_type": "execute_result"
    }
   ],
   "source": [
    "HTML(\"\"\"<div align=\"middle\"><video width=\"80%\" height=\"\" controls><source src=\"media/03_p3_t_trained.mp4\" type=\"video/mp4\"></video></div>\"\"\")"
   ]
  },
  {
   "cell_type": "markdown",
   "metadata": {
    "ExecuteTime": {
     "end_time": "2018-12-28T00:42:25.806251Z",
     "start_time": "2018-12-28T00:41:55.873159Z"
    }
   },
   "source": [
    "<div style=\"text-align: justify\">\n",
    "The following code cell test the trained agent in the environment.\n",
    "The code loads the trained model weights from the folder \"./model_weights/\" into the agent model and the two agents control rackets to bounce a ball over a net without let the ball hit the ground or neither let hit the ball out of bounds until the end of the episode. Once the episodes are finish the cell print the score of the episode and plot the associated reward score diagram.\n",
    "</div>"
   ]
  },
  {
   "cell_type": "code",
   "execution_count": 12,
   "metadata": {
    "ExecuteTime": {
     "end_time": "2019-03-02T07:42:05.206710Z",
     "start_time": "2019-03-02T07:42:04.717617Z"
    }
   },
   "outputs": [],
   "source": [
    "# load the model weights from file\n",
    "agent.actor_local.load_state_dict(torch.load('./model_weights/agent_actor_local_checkpoint_solved.pth'))\n",
    "agent.critic_local.load_state_dict(torch.load('./model_weights/agent_critic_local_checkpoint_solved.pth'))"
   ]
  },
  {
   "cell_type": "code",
   "execution_count": 13,
   "metadata": {
    "ExecuteTime": {
     "end_time": "2019-03-02T07:57:39.664028Z",
     "start_time": "2019-03-02T07:42:05.207708Z"
    }
   },
   "outputs": [],
   "source": [
    "episode_score = []                                     # list containing scores from each episode\n",
    "\n",
    "for j in range(5):                                     # specify the number of episodes\n",
    "    env_info = env.reset(train_mode=False)[brain_name] # reset the environment\n",
    "    state  = env_info.vector_observations              # get the current state\n",
    "    score  = np.zeros(num_agents)                      # initialize the score\n",
    "\n",
    "    for t in range(1000):\n",
    "        #sleep(0.1)                                    # optional to reduce the speed of the agent\n",
    "        action = [agent.act(np.expand_dims(state[i],axis=0), add_noise=False) for i in range(2)] # get action from 20 agents\n",
    "        \n",
    "        env_info = env.step(action)[brain_name]        # send the action to the environment\n",
    "        next_state = env_info.vector_observations      # get the next state\n",
    "        reward = env_info.rewards                      # get the reward\n",
    "        done = env_info.local_done                     # see if episode has finished\n",
    "        \n",
    "        score += reward                                # update the score\n",
    "        \n",
    "        state = next_state                             # roll over the state to next time step\n",
    "        if np.any(done):                               # exit loop if episode finished\n",
    "            break             \n",
    "    episode_score.append(np.mean(score))               # collect the score"
   ]
  },
  {
   "cell_type": "code",
   "execution_count": 14,
   "metadata": {
    "ExecuteTime": {
     "end_time": "2019-03-02T07:57:40.271360Z",
     "start_time": "2019-03-02T07:57:39.672971Z"
    },
    "scrolled": true
   },
   "outputs": [
    {
     "name": "stdout",
     "output_type": "stream",
     "text": [
      "Score of two trained agents: [2.600000038743019, 2.650000039488077, 2.600000038743019, 2.650000039488077, 2.600000038743019]\n"
     ]
    },
    {
     "data": {
      "image/png": "[encoded data removed]",
      "text/plain": [
       "<Figure size 1080x216 with 1 Axes>"
      ]
     },
     "metadata": {
      "needs_background": "light"
     },
     "output_type": "display_data"
    }
   ],
   "source": [
    "# Plot and print the achived scores during this episode\n",
    "print(\"Score of two trained agents: {}\".format(episode_score))\n",
    "fig = plt.figure(figsize=(15,3))\n",
    "ax = fig.add_subplot(111)\n",
    "plt.plot(1+np.arange(len(episode_score)), episode_score)\n",
    "plt.ylabel('Score')\n",
    "plt.xlabel('Episode #')\n",
    "plt.grid(True)\n",
    "plt.show()"
   ]
  },
  {
   "cell_type": "markdown",
   "metadata": {},
   "source": [
    "# Close the environment\n",
    "Close the environment after the training and testing phase."
   ]
  },
  {
   "cell_type": "code",
   "execution_count": 15,
   "metadata": {
    "ExecuteTime": {
     "end_time": "2019-03-02T07:57:40.721155Z",
     "start_time": "2019-03-02T07:57:40.273355Z"
    }
   },
   "outputs": [],
   "source": [
    "env.close()"
   ]
  },
  {
   "cell_type": "markdown",
   "metadata": {},
   "source": [
    "<hr>"
   ]
  }
 ],
 "metadata": {
  "kernelspec": {
   "display_name": "drlnd",
   "language": "python",
   "name": "drlnd"
  },
  "language_info": {
   "codemirror_mode": {
    "name": "ipython",
    "version": 3
   },
   "file_extension": ".py",
   "mimetype": "text/x-python",
   "name": "python",
   "nbconvert_exporter": "python",
   "pygments_lexer": "ipython3",
   "version": "3.6.6"
  },
  "toc": {
   "base_numbering": 1,
   "nav_menu": {},
   "number_sections": true,
   "sideBar": true,
   "skip_h1_title": false,
   "title_cell": "Table of Contents",
   "title_sidebar": "Contents",
   "toc_cell": false,
   "toc_position": {
    "height": "calc(100% - 180px)",
    "left": "10px",
    "top": "150px",
    "width": "263.423px"
   },
   "toc_section_display": true,
   "toc_window_display": true
  },
  "varInspector": {
   "cols": {
    "lenName": 16,
    "lenType": 16,
    "lenVar": 40
   },
   "kernels_config": {
    "python": {
     "delete_cmd_postfix": "",
     "delete_cmd_prefix": "del ",
     "library": "var_list.py",
     "varRefreshCmd": "print(var_dic_list())"
    },
    "r": {
     "delete_cmd_postfix": ") ",
     "delete_cmd_prefix": "rm(",
     "library": "var_list.r",
     "varRefreshCmd": "cat(var_dic_list()) "
    }
   },
   "types_to_exclude": [
    "module",
    "function",
    "builtin_function_or_method",
    "instance",
    "_Feature"
   ],
   "window_display": false
  }
 },
 "nbformat": 4,
 "nbformat_minor": 2
}
